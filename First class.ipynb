{
 "cells": [
  {
   "cell_type": "code",
   "execution_count": 1,
   "id": "e5928a15",
   "metadata": {},
   "outputs": [
    {
     "name": "stdout",
     "output_type": "stream",
     "text": [
      "45\n"
     ]
    }
   ],
   "source": [
    "a = 45\n",
    "print(a)"
   ]
  },
  {
   "cell_type": "code",
   "execution_count": 6,
   "id": "95792778",
   "metadata": {},
   "outputs": [
    {
     "name": "stdout",
     "output_type": "stream",
     "text": [
      "35 12.5 Hillson True\n",
      "<class 'int'>\n",
      "<class 'float'>\n",
      "<class 'str'>\n",
      "<class 'bool'>\n"
     ]
    }
   ],
   "source": [
    "a = 35\n",
    "b = 12.5\n",
    "c = \"Hillson\"\n",
    "d = True\n",
    "\n",
    "print(a,b,c,d)\n",
    "print(type(a))\n",
    "print(type(b))\n",
    "print(type(c))\n",
    "print(type(d))"
   ]
  },
  {
   "cell_type": "code",
   "execution_count": 11,
   "id": "ab3930e1",
   "metadata": {},
   "outputs": [
    {
     "name": "stdout",
     "output_type": "stream",
     "text": [
      "Hello world\n"
     ]
    }
   ],
   "source": [
    "c = \"hello world\"\n",
    "c = '''Hello world'''\n",
    "print(c)"
   ]
  },
  {
   "cell_type": "code",
   "execution_count": 15,
   "id": "9ef06f44",
   "metadata": {},
   "outputs": [
    {
     "name": "stdout",
     "output_type": "stream",
     "text": [
      "110\n",
      "-20\n",
      "2925\n",
      "0.6923076923076923\n",
      "287616233996758386293038843954684893419910825453736049472704152632669682976285230324720032513141632080078125\n",
      "0\n",
      "45\n"
     ]
    }
   ],
   "source": [
    "a = 45\n",
    "b = 65\n",
    "print(a+b)\n",
    "print(a-b)\n",
    "print(a*b)\n",
    "print(a/b)\n",
    "print(a**b)\n",
    "print(a//b)\n",
    "print(a%b)"
   ]
  },
  {
   "cell_type": "code",
   "execution_count": 17,
   "id": "2c28c20a",
   "metadata": {},
   "outputs": [
    {
     "name": "stdout",
     "output_type": "stream",
     "text": [
      "Hello World\n"
     ]
    }
   ],
   "source": [
    "a = \"Hello \"\n",
    "b = \"World\"\n",
    "c = a + b\n",
    "print(c)"
   ]
  },
  {
   "cell_type": "code",
   "execution_count": 18,
   "id": "dbdb2c4c",
   "metadata": {},
   "outputs": [
    {
     "name": "stdout",
     "output_type": "stream",
     "text": [
      "Hello World Hello World Hello World \n"
     ]
    }
   ],
   "source": [
    "a = \"Hello World \"\n",
    "print(a*3)\n"
   ]
  },
  {
   "cell_type": "code",
   "execution_count": 19,
   "id": "7febbb2a",
   "metadata": {},
   "outputs": [
    {
     "name": "stdout",
     "output_type": "stream",
     "text": [
      "1\n"
     ]
    }
   ],
   "source": [
    "a = True\n",
    "b = False \n",
    "print(a+b)"
   ]
  },
  {
   "cell_type": "code",
   "execution_count": 20,
   "id": "99bb2176",
   "metadata": {},
   "outputs": [
    {
     "name": "stdout",
     "output_type": "stream",
     "text": [
      "<class 'int'>\n"
     ]
    }
   ],
   "source": [
    "a = 10\n",
    "print(type(a))"
   ]
  },
  {
   "cell_type": "code",
   "execution_count": 21,
   "id": "ab111ae4",
   "metadata": {},
   "outputs": [
    {
     "data": {
      "text/plain": [
       "'10'"
      ]
     },
     "execution_count": 21,
     "metadata": {},
     "output_type": "execute_result"
    }
   ],
   "source": [
    "str(a)"
   ]
  },
  {
   "cell_type": "code",
   "execution_count": 23,
   "id": "ecdbf3bf",
   "metadata": {},
   "outputs": [
    {
     "data": {
      "text/plain": [
       "'10.5'"
      ]
     },
     "execution_count": 23,
     "metadata": {},
     "output_type": "execute_result"
    }
   ],
   "source": [
    "a = 10.5\n",
    "b = str(a)\n",
    "b"
   ]
  },
  {
   "cell_type": "code",
   "execution_count": 24,
   "id": "c5ccd5bf",
   "metadata": {},
   "outputs": [
    {
     "data": {
      "text/plain": [
       "10"
      ]
     },
     "execution_count": 24,
     "metadata": {},
     "output_type": "execute_result"
    }
   ],
   "source": [
    "a = 10.4\n",
    "b = int(a)\n",
    "b"
   ]
  },
  {
   "cell_type": "code",
   "execution_count": 25,
   "id": "473bf1ba",
   "metadata": {},
   "outputs": [
    {
     "data": {
      "text/plain": [
       "10.0"
      ]
     },
     "execution_count": 25,
     "metadata": {},
     "output_type": "execute_result"
    }
   ],
   "source": [
    "a = 10\n",
    "b = float(a)\n",
    "b"
   ]
  },
  {
   "cell_type": "code",
   "execution_count": 27,
   "id": "e079267d",
   "metadata": {},
   "outputs": [
    {
     "name": "stdout",
     "output_type": "stream",
     "text": [
      "44\n"
     ]
    }
   ],
   "source": [
    "a = 10\n",
    "b = 34\n",
    "print(a+b)"
   ]
  },
  {
   "cell_type": "code",
   "execution_count": 28,
   "id": "5f1741fe",
   "metadata": {},
   "outputs": [
    {
     "data": {
      "text/plain": [
       "True"
      ]
     },
     "execution_count": 28,
     "metadata": {},
     "output_type": "execute_result"
    }
   ],
   "source": [
    "a = 2\n",
    "b = bool(a)\n",
    "b"
   ]
  },
  {
   "cell_type": "code",
   "execution_count": 37,
   "id": "b4534f4a",
   "metadata": {},
   "outputs": [
    {
     "name": "stdout",
     "output_type": "stream",
     "text": [
      "Hello world i am 21\n"
     ]
    }
   ],
   "source": [
    "name = \"Hillson\"\n",
    "age = 21\n",
    "add = \"Kathmandu\"\n",
    "\n",
    "info = \"Hello world i am \" + str(age)\n",
    "print(info)"
   ]
  },
  {
   "cell_type": "code",
   "execution_count": 42,
   "id": "fdd64c92",
   "metadata": {},
   "outputs": [
    {
     "name": "stdout",
     "output_type": "stream",
     "text": [
      "Enter your name Hillson\n",
      "enter age = 21\n",
      "Enter add = Kathmandu\n"
     ]
    }
   ],
   "source": [
    "name = input(\"Enter your name \")\n",
    "age = int(input(\"enter age = \"))\n",
    "add = input(\"Enter add = \")"
   ]
  },
  {
   "cell_type": "code",
   "execution_count": 1,
   "id": "b391e158",
   "metadata": {},
   "outputs": [
    {
     "name": "stdout",
     "output_type": "stream",
     "text": [
      "False\n"
     ]
    }
   ],
   "source": [
    "a = 10\n",
    "print(a < 5)"
   ]
  },
  {
   "cell_type": "code",
   "execution_count": 2,
   "id": "95547f57",
   "metadata": {},
   "outputs": [],
   "source": [
    "# if (condition):\n",
    "#     (operations)\n",
    "# elif (condition):\n",
    "#     (operations)\n",
    "# else:\n",
    "#     (operations)"
   ]
  },
  {
   "cell_type": "code",
   "execution_count": 3,
   "id": "641d4f5b",
   "metadata": {},
   "outputs": [
    {
     "name": "stdout",
     "output_type": "stream",
     "text": [
      "Enter the value of x= 5\n",
      "The number is positive\n"
     ]
    }
   ],
   "source": [
    "x = int(input(\"Enter the value of x= \"))\n",
    "if x>0:\n",
    "    print(\"The number is positive\")\n",
    "else:\n",
    "    print(\"The number is negative\")"
   ]
  },
  {
   "cell_type": "code",
   "execution_count": 4,
   "id": "96e05400",
   "metadata": {},
   "outputs": [
    {
     "name": "stdout",
     "output_type": "stream",
     "text": [
      "enter the value of x: 4\n",
      "The given number is even\n"
     ]
    }
   ],
   "source": [
    "x = int(input(\"enter the value of x: \"))\n",
    "if x%2==0:\n",
    "    print(\"The given number is even\")\n",
    "else:\n",
    "    print(\"The number is odd\")"
   ]
  },
  {
   "cell_type": "code",
   "execution_count": 1,
   "id": "7ac95ee5",
   "metadata": {},
   "outputs": [
    {
     "name": "stdout",
     "output_type": "stream",
     "text": [
      "enter the value:4\n",
      "enter the value:6\n",
      "b is greater than a\n"
     ]
    }
   ],
   "source": [
    "a = int(input(\"enter the value:\"))\n",
    "b = int(input(\"enter the value:\"))\n",
    "if a>b:\n",
    "    print(\"a is greater than b\")\n",
    "elif b>a:\n",
    "    print('b is greater than a')\n",
    "else:\n",
    "    print(\"a and b are equal!\")"
   ]
  },
  {
   "cell_type": "code",
   "execution_count": 2,
   "id": "3ec4bd40",
   "metadata": {},
   "outputs": [
    {
     "name": "stdout",
     "output_type": "stream",
     "text": [
      "Enter 1st number: 3\n",
      "Enter 2nd number: 4\n",
      "Enter an operator: -\n",
      "-1\n"
     ]
    }
   ],
   "source": [
    "a = int(input(\"Enter 1st number: \"))\n",
    "b = int(input(\"Enter 2nd number: \"))\n",
    "o = input(\"Enter an operator: \")\n",
    "if o==\"+\":\n",
    "    print(a+b)\n",
    "elif o==\"-\":\n",
    "    print(a-b)\n",
    "elif o==\"*\":\n",
    "    print(a*b)\n",
    "elif o==\"/\":\n",
    "    print(a/b)\n",
    "else:\n",
    "    print(\"Enter a valid operator\")\n",
    "    "
   ]
  },
  {
   "cell_type": "code",
   "execution_count": 5,
   "id": "aa375359",
   "metadata": {},
   "outputs": [
    {
     "name": "stdout",
     "output_type": "stream",
     "text": [
      "Enter english marks: 54\n",
      "Enter maths marks: 53\n",
      "Enter physics marks: 532\n",
      "Enter chemistry mark: 34\n",
      "Total=  673\n",
      "per=  168.25\n",
      "Grade A\n"
     ]
    }
   ],
   "source": [
    "english = int(input(\"Enter english marks: \"))\n",
    "maths = int(input(\"Enter maths marks: \"))\n",
    "physics = int(input(\"Enter physics marks: \"))\n",
    "chemistry = int(input(\"Enter chemistry mark: \"))\n",
    "\n",
    "total = english + maths + physics + chemistry\n",
    "\n",
    "per = total/4\n",
    "\n",
    "if per >= 80:\n",
    "    Grade = \"A\"\n",
    "elif per >= 60:\n",
    "    Grade = \"B\"\n",
    "elif per >=45:\n",
    "    Grade = \"C\"\n",
    "else:\n",
    "    Grade = \"F\"\n",
    "\n",
    "print(\"Total= \",total)\n",
    "print(\"per= \",per)\n",
    "print(\"Grade\",Grade)"
   ]
  },
  {
   "cell_type": "code",
   "execution_count": 8,
   "id": "1f385b00",
   "metadata": {},
   "outputs": [
    {
     "name": "stdout",
     "output_type": "stream",
     "text": [
      "False\n",
      "False\n",
      "True\n"
     ]
    }
   ],
   "source": [
    "# logical operators[and(&),or(|),not(^)]\n",
    "print(True and False)\n",
    "print(False and True)\n",
    "print(True and True)"
   ]
  },
  {
   "cell_type": "code",
   "execution_count": 9,
   "id": "1e01d24f",
   "metadata": {},
   "outputs": [
    {
     "name": "stdout",
     "output_type": "stream",
     "text": [
      "True\n",
      "True\n",
      "True\n"
     ]
    }
   ],
   "source": [
    "print(True or False)\n",
    "print(False or True)\n",
    "print(True or True)"
   ]
  },
  {
   "cell_type": "code",
   "execution_count": 10,
   "id": "15eaa8ed",
   "metadata": {},
   "outputs": [
    {
     "name": "stdout",
     "output_type": "stream",
     "text": [
      "Enter 1st number: 4\n",
      "Enter 2nd number: 3\n",
      "Enter an operator: /\n",
      "1.3333333333333333\n"
     ]
    }
   ],
   "source": [
    "a = int(input(\"Enter 1st number: \"))\n",
    "b = int(input(\"Enter 2nd number: \"))\n",
    "o = input(\"Enter an operator: \")\n",
    "if o==\"+\":\n",
    "    print(a+b)\n",
    "elif o==\"-\":\n",
    "    print(a-b)\n",
    "elif o==\"*\":\n",
    "    print(a*b)\n",
    "elif o==\"/\" and b != 0:\n",
    "    print(a/b)\n",
    "elif o==\"/\" and b == 0:\n",
    "    print(\"The value of b can not be zero\")\n",
    "else:\n",
    "    print(\"Enter a valid operator\")\n",
    "    "
   ]
  },
  {
   "cell_type": "code",
   "execution_count": 11,
   "id": "abe3f9af",
   "metadata": {},
   "outputs": [
    {
     "name": "stdout",
     "output_type": "stream",
     "text": [
      "Enter english marks: 43\n",
      "Enter maths marks: 45\n",
      "Enter physics marks: 45\n",
      "Enter chemistry mark: 64\n",
      "Total=  197\n",
      "per=  49.25\n",
      "Grade C\n"
     ]
    }
   ],
   "source": [
    "english = int(input(\"Enter english marks: \"))\n",
    "maths = int(input(\"Enter maths marks: \"))\n",
    "physics = int(input(\"Enter physics marks: \"))\n",
    "chemistry = int(input(\"Enter chemistry mark: \"))\n",
    "\n",
    "total = english + maths + physics + chemistry\n",
    "\n",
    "per = total/4\n",
    "\n",
    "if per >= 80 or per ==80:\n",
    "    Grade = \"A\"\n",
    "elif per >= 60 or per ==60:\n",
    "    Grade = \"B\"\n",
    "elif per >=45 or oer ==45:\n",
    "    Grade = \"C\"\n",
    "else:\n",
    "    Grade = \"F\"\n",
    "\n",
    "print(\"Total= \",total)\n",
    "print(\"per= \",per)\n",
    "print(\"Grade\",Grade)"
   ]
  },
  {
   "cell_type": "code",
   "execution_count": 12,
   "id": "9da2e8f1",
   "metadata": {},
   "outputs": [
    {
     "name": "stdout",
     "output_type": "stream",
     "text": [
      "Enter the value of x: 5\n",
      "The value of x is positive and odd\n"
     ]
    }
   ],
   "source": [
    "x = int(input(\"Enter the value of x: \"))\n",
    "if x >= 0 and x%2==0:\n",
    "    print(\"The vlaue of x is positive and even\")\n",
    "elif x >= 0 and x%2!=0:\n",
    "    print(\"The value of x is positive and odd\")\n",
    "elif x < 0 and x%2==0:\n",
    "    print(\"THe value of x is negative and even\")\n",
    "else:\n",
    "    print(\"The value of x is negative and odd\")"
   ]
  },
  {
   "cell_type": "code",
   "execution_count": 13,
   "id": "9bf7d4c6",
   "metadata": {},
   "outputs": [],
   "source": [
    "# # nested if/else statement\n",
    "# if <conditions>:\n",
    "#     if <conditions>:\n",
    "#         <operations>\n",
    "#         else:\n",
    "#             <opeations>\n",
    "# else:\n",
    "# #     <operations>"
   ]
  },
  {
   "cell_type": "code",
   "execution_count": 17,
   "id": "29394d65",
   "metadata": {},
   "outputs": [
    {
     "name": "stdout",
     "output_type": "stream",
     "text": [
      "Enter x = 5\n",
      "The value of x is positive and odd\n"
     ]
    }
   ],
   "source": [
    "x = int(input(\"Enter x = \"))\n",
    "if x >=0:\n",
    "    if x%2 == 0:\n",
    "        print(\"THe value of x is positive and even\")\n",
    "    else:\n",
    "        print(\"The value of x is positive and odd\")\n",
    "else:\n",
    "    if x%2 == 0:\n",
    "        print(\"THe value of x is negative and even\")\n",
    "    else:\n",
    "        print(\"The value of x is negative and odd\")"
   ]
  },
  {
   "cell_type": "code",
   "execution_count": 18,
   "id": "0d221f0a",
   "metadata": {},
   "outputs": [
    {
     "name": "stdout",
     "output_type": "stream",
     "text": [
      "Enter 1st number: 5\n",
      "Enter 2nd number: 6\n",
      "Enter an operator: /\n",
      "0.8333333333333334\n"
     ]
    }
   ],
   "source": [
    "a = int(input(\"Enter 1st number: \"))\n",
    "b = int(input(\"Enter 2nd number: \"))\n",
    "o = input(\"Enter an operator: \")\n",
    "if o==\"+\":\n",
    "    print(a+b)\n",
    "elif o==\"-\":\n",
    "    print(a-b)\n",
    "elif o==\"*\":\n",
    "    print(a*b)\n",
    "elif o==\"/\":\n",
    "    if b != 0:\n",
    "        print(a/b)\n",
    "    else:\n",
    "        print(\"The value of b can not be 0 while 0 = /\")\n",
    "else:\n",
    "    print(\"Enter a valid operator\")\n",
    "    "
   ]
  },
  {
   "cell_type": "code",
   "execution_count": 30,
   "id": "4f125f30",
   "metadata": {},
   "outputs": [
    {
     "ename": "SyntaxError",
     "evalue": "invalid syntax (4280357532.py, line 17)",
     "output_type": "error",
     "traceback": [
      "\u001b[0;36m  Cell \u001b[0;32mIn[30], line 17\u001b[0;36m\u001b[0m\n\u001b[0;31m    else:\u001b[0m\n\u001b[0m    ^\u001b[0m\n\u001b[0;31mSyntaxError\u001b[0m\u001b[0;31m:\u001b[0m invalid syntax\n"
     ]
    }
   ],
   "source": [
    "english = int(input(\"Enter english marks: \"))\n",
    "maths = int(input(\"Enter maths marks: \"))\n",
    "physics = int(input(\"Enter physics marks: \"))\n",
    "chemistry = int(input(\"Enter chemistry mark: \"))\n",
    "\n",
    "if english >=32 and maths >=32 and physics >=32 and chemistry >=32:\n",
    "    total = english + maths + physics + chemistry\n",
    "\n",
    "per = total/4\n",
    "\n",
    "if per >= 80 or per ==80:\n",
    "    Grade = \"A\"\n",
    "elif per >= 60 or per ==60:\n",
    "    Grade = \"B\"\n",
    "elif per >= 45 or per ==45:\n",
    "    Grade = \"C\"\n",
    "    else:\n",
    "         Grade = \"D\"\n",
    "\n",
    "print(\"Total= \",total)\n",
    "print(\"per= \",per)\n",
    "print(\"Grade\",Grade)\n",
    "print(\"english:, maths:, physics:, chemistry: \",english, maths, physics, chemistry)\n",
    "else:\n",
    "    print(\"Grade = F\")"
   ]
  },
  {
   "cell_type": "code",
   "execution_count": 32,
   "id": "615cbbed",
   "metadata": {},
   "outputs": [],
   "source": [
    "# # Loop in python\n",
    "# for loop \n",
    "# # while loop"
   ]
  },
  {
   "cell_type": "code",
   "execution_count": null,
   "id": "78029bb4",
   "metadata": {},
   "outputs": [],
   "source": [
    "# # for loop\n",
    "# range(5)\n",
    "# range(1,5)\n",
    "# range(1,10,2)"
   ]
  },
  {
   "cell_type": "code",
   "execution_count": 35,
   "id": "cd7d0711",
   "metadata": {},
   "outputs": [
    {
     "name": "stdout",
     "output_type": "stream",
     "text": [
      "1 Hillson\n",
      "2 Hillson\n",
      "3 Hillson\n",
      "4 Hillson\n"
     ]
    }
   ],
   "source": [
    "for i in range(1,5):\n",
    "    print(i, \"Hillson\")"
   ]
  },
  {
   "cell_type": "code",
   "execution_count": 36,
   "id": "65f0d142",
   "metadata": {},
   "outputs": [
    {
     "name": "stdout",
     "output_type": "stream",
     "text": [
      "1 Hillson\n",
      "3 Hillson\n",
      "5 Hillson\n",
      "7 Hillson\n",
      "9 Hillson\n"
     ]
    }
   ],
   "source": [
    "for i in range(1,10,2):\n",
    "    print(i,\"Hillson\")"
   ]
  },
  {
   "cell_type": "code",
   "execution_count": 38,
   "id": "2c89bde8",
   "metadata": {},
   "outputs": [
    {
     "name": "stdout",
     "output_type": "stream",
     "text": [
      "10 Hillson\n",
      "9 Hillson\n",
      "8 Hillson\n",
      "7 Hillson\n",
      "6 Hillson\n",
      "5 Hillson\n",
      "4 Hillson\n",
      "3 Hillson\n",
      "2 Hillson\n",
      "1 Hillson\n",
      "0 Hillson\n"
     ]
    }
   ],
   "source": [
    "for i in range(10,-1,-1):\n",
    "    print(i, \"Hillson\")"
   ]
  },
  {
   "cell_type": "code",
   "execution_count": 44,
   "id": "85b122e6",
   "metadata": {},
   "outputs": [
    {
     "name": "stdout",
     "output_type": "stream",
     "text": [
      "Enter d = 5\n",
      "5 * 1 = 5\n",
      "5 * 2 = 10\n",
      "5 * 3 = 15\n",
      "5 * 4 = 20\n",
      "5 * 5 = 25\n",
      "5 * 6 = 30\n",
      "5 * 7 = 35\n",
      "5 * 8 = 40\n",
      "5 * 9 = 45\n",
      "5 * 10 = 50\n"
     ]
    }
   ],
   "source": [
    "#wap to create a multiplication table\n",
    "d = int(input(\"Enter d = \"))\n",
    "for i in range(1,11):\n",
    "    print(d,\"*\",i,\"=\",d*i)"
   ]
  },
  {
   "cell_type": "code",
   "execution_count": null,
   "id": "c12b9d9f",
   "metadata": {},
   "outputs": [
    {
     "name": "stdout",
     "output_type": "stream",
     "text": [
      "Enter tha value of x: 6\n",
      "you entered 6\n"
     ]
    }
   ],
   "source": [
    "for i in range(5):\n",
    "    x = int(input(\"Enter tha value of x: \"))\n",
    "    print(\"you entered\",x)"
   ]
  },
  {
   "cell_type": "markdown",
   "id": "ba29fcc6",
   "metadata": {},
   "source": []
  },
  {
   "cell_type": "code",
   "execution_count": 1,
   "id": "416737ff",
   "metadata": {},
   "outputs": [
    {
     "name": "stdout",
     "output_type": "stream",
     "text": [
      "Enter the value: 5\n",
      "Enter x = 2\n",
      "sum 2\n",
      "Enter x = 1\n",
      "sum 3\n",
      "Enter x = 2\n",
      "sum 5\n",
      "Enter x = 3\n",
      "sum 8\n",
      "Enter x = 4\n",
      "sum 12\n"
     ]
    }
   ],
   "source": [
    "s = 0\n",
    "n = int(input(\"Enter the value: \"))\n",
    "for i in range(n):\n",
    "    x = int(input(\"Enter x = \"))\n",
    "    s = s + x\n",
    "    print(\"sum\",s)"
   ]
  },
  {
   "cell_type": "markdown",
   "id": "bec969e2",
   "metadata": {},
   "source": []
  },
  {
   "cell_type": "code",
   "execution_count": 5,
   "id": "6a7d4ecb",
   "metadata": {},
   "outputs": [
    {
     "name": "stdout",
     "output_type": "stream",
     "text": [
      "Enter n = 2\n",
      "Enter x = s\n",
      "Enter your no: 234\n",
      "Enter x = e\n",
      "Enter your no: 42\n",
      "s 234\n",
      "e 42\n",
      "\n"
     ]
    }
   ],
   "source": [
    "s = \"\"\n",
    "n = int(input(\"Enter n = \"))\n",
    "for i in range(n):\n",
    "    x = input(\"Enter x = \")\n",
    "    y = int(input(\"Enter your no: \"))\n",
    "    s = s + x + \" \" + str(y) + \"\\n\"\n",
    "    \n",
    "    \n",
    "print(s)"
   ]
  },
  {
   "cell_type": "code",
   "execution_count": 6,
   "id": "c80e25ba",
   "metadata": {},
   "outputs": [],
   "source": [
    "# for loop in string\n"
   ]
  },
  {
   "cell_type": "code",
   "execution_count": 9,
   "id": "f2766b21",
   "metadata": {},
   "outputs": [
    {
     "name": "stdout",
     "output_type": "stream",
     "text": [
      "Hello world"
     ]
    }
   ],
   "source": [
    "a = \"Hello world\"\n",
    "for i in a:\n",
    "    print(i, end= \"\")"
   ]
  },
  {
   "cell_type": "code",
   "execution_count": 10,
   "id": "42054cab",
   "metadata": {},
   "outputs": [
    {
     "name": "stdout",
     "output_type": "stream",
     "text": [
      "H Hello world\n",
      "e Hello world\n",
      "l Hello world\n",
      "l Hello world\n",
      "o Hello world\n",
      "  Hello world\n",
      "w Hello world\n",
      "o Hello world\n",
      "r Hello world\n",
      "l Hello world\n",
      "d Hello world\n"
     ]
    }
   ],
   "source": [
    "a = \"Hello world\"\n",
    "for i in a:\n",
    "    print(i, \"Hello world\")"
   ]
  },
  {
   "cell_type": "code",
   "execution_count": 3,
   "id": "74beee68",
   "metadata": {},
   "outputs": [
    {
     "name": "stdout",
     "output_type": "stream",
     "text": [
      "Hello world i am python"
     ]
    }
   ],
   "source": [
    "a = \"Hello world! i am python.\"\n",
    "for i in a:\n",
    "    if i != \".\":\n",
    "        print(i, end=\"\")"
   ]
  },
  {
   "cell_type": "code",
   "execution_count": 4,
   "id": "99498e00",
   "metadata": {},
   "outputs": [
    {
     "name": "stdout",
     "output_type": "stream",
     "text": [
      "Hello world i am python"
     ]
    }
   ],
   "source": [
    "a = \"Hello world!. i am python\"\n",
    "for i in a:\n",
    "    if i != \".\" and i !=\"!\":\n",
    "        print(i, end=\"\")"
   ]
  },
  {
   "cell_type": "code",
   "execution_count": 5,
   "id": "24624c9c",
   "metadata": {},
   "outputs": [
    {
     "name": "stdout",
     "output_type": "stream",
     "text": [
      "\n",
      "0\n",
      "00\n",
      "000\n",
      "0000\n"
     ]
    }
   ],
   "source": [
    "for i in range(5):\n",
    "    print(i*\"0\")"
   ]
  },
  {
   "cell_type": "code",
   "execution_count": 8,
   "id": "03b631e2",
   "metadata": {},
   "outputs": [
    {
     "name": "stdout",
     "output_type": "stream",
     "text": [
      " \n",
      "o o\n",
      "ooo oo\n",
      "ooooo ooo\n",
      "ooooooo oooo\n"
     ]
    }
   ],
   "source": [
    "for i in range(5):\n",
    "    print((2*i-1)*\"o\",i*\"o\")"
   ]
  },
  {
   "cell_type": "code",
   "execution_count": 12,
   "id": "c78c4cf5",
   "metadata": {},
   "outputs": [
    {
     "name": "stdout",
     "output_type": "stream",
     "text": [
      "           \n",
      "          o\n",
      "         ooo\n",
      "        ooooo\n",
      "       ooooooo\n",
      "      ooooooooo\n",
      "     ooooooooooo\n",
      "    ooooooooooooo\n",
      "   ooooooooooooooo\n",
      "  ooooooooooooooooo\n"
     ]
    }
   ],
   "source": [
    "n = 10\n",
    "for i in range(n):\n",
    "    print((n-i)*\" \",(2*i-1)*\"o\")"
   ]
  },
  {
   "cell_type": "code",
   "execution_count": 13,
   "id": "e140051d",
   "metadata": {},
   "outputs": [
    {
     "name": "stdout",
     "output_type": "stream",
     "text": [
      "           \n",
      "          o\n",
      "         ooo\n",
      "        ooooo\n",
      "       ooooooo\n",
      "      ooooooooo\n",
      "     ooooooooooo\n",
      "    ooooooooooooo\n",
      "   ooooooooooooooo\n",
      "  ooooooooooooooooo\n",
      " ooooooooooooooooooo\n",
      "  ooooooooooooooooo\n",
      "   ooooooooooooooo\n",
      "    ooooooooooooo\n",
      "     ooooooooooo\n",
      "      ooooooooo\n",
      "       ooooooo\n",
      "        ooooo\n",
      "         ooo\n",
      "          o\n"
     ]
    }
   ],
   "source": [
    "n = 10\n",
    "for i in range(n):\n",
    "    print((n-i)*\" \",(2*i-1)*\"o\")\n",
    "for i in range(n,0,-1):\n",
    "    print((n-i)*\" \",(2*i-1)*\"o\")"
   ]
  },
  {
   "cell_type": "code",
   "execution_count": 14,
   "id": "9243fc2f",
   "metadata": {},
   "outputs": [],
   "source": [
    "# # control statement\n",
    "# break\n",
    "# continue \n",
    "# pass"
   ]
  },
  {
   "cell_type": "code",
   "execution_count": 16,
   "id": "70f36f4e",
   "metadata": {},
   "outputs": [
    {
     "name": "stdout",
     "output_type": "stream",
     "text": [
      "0\n",
      "1\n",
      "2\n",
      "3\n",
      "4\n"
     ]
    }
   ],
   "source": [
    "for i in range(10):\n",
    "    if i == 5:\n",
    "        break\n",
    "    print(i)"
   ]
  },
  {
   "cell_type": "code",
   "execution_count": 18,
   "id": "23c94c00",
   "metadata": {},
   "outputs": [
    {
     "name": "stdout",
     "output_type": "stream",
     "text": [
      "0 1 2 3 4 6 7 8 9 "
     ]
    }
   ],
   "source": [
    "for i in range(10):\n",
    "    if i == 5:\n",
    "        continue\n",
    "    print(i, end = \" \")"
   ]
  },
  {
   "cell_type": "code",
   "execution_count": 19,
   "id": "31f3386c",
   "metadata": {},
   "outputs": [],
   "source": [
    "for i in range(5):\n",
    "    pass"
   ]
  },
  {
   "cell_type": "code",
   "execution_count": 24,
   "id": "6cc827f9",
   "metadata": {},
   "outputs": [
    {
     "name": "stdout",
     "output_type": "stream",
     "text": [
      "Hello world I am Hillson"
     ]
    }
   ],
   "source": [
    "a = \"Hello world. I am Hillson.\"\n",
    "for i in a:\n",
    "    if i ==\".\":\n",
    "        continue\n",
    "    print(i,end=\"\")"
   ]
  },
  {
   "cell_type": "code",
   "execution_count": 32,
   "id": "e6a19df7",
   "metadata": {},
   "outputs": [
    {
     "name": "stdout",
     "output_type": "stream",
     "text": [
      "sachin,gautam,sandip,pooja"
     ]
    }
   ],
   "source": [
    "a = \"sachin,gautam,sandip,pooja\"\n",
    "for i in a:\n",
    "    if i ==\",sandip\":\n",
    "        break\n",
    "    print(i,end=\"\")"
   ]
  },
  {
   "cell_type": "code",
   "execution_count": 29,
   "id": "6cc1902e",
   "metadata": {},
   "outputs": [
    {
     "name": "stdout",
     "output_type": "stream",
     "text": [
      "enter n= 4\n",
      "4\n",
      "8\n",
      "12\n",
      "16\n",
      "20\n",
      "24\n",
      "28\n",
      "32\n",
      "36\n",
      "40\n"
     ]
    }
   ],
   "source": [
    "n = int(input(\"enter n= \"))\n",
    "for i in range(1,n*11):\n",
    "    if i%n !=0:\n",
    "        continue\n",
    "    print(i)"
   ]
  },
  {
   "cell_type": "code",
   "execution_count": null,
   "id": "874c3178",
   "metadata": {},
   "outputs": [],
   "source": [
    "# while <condtiton>\n",
    "#        <operations>\n",
    "    "
   ]
  },
  {
   "cell_type": "code",
   "execution_count": 1,
   "id": "929bcc8f",
   "metadata": {},
   "outputs": [
    {
     "name": "stdout",
     "output_type": "stream",
     "text": [
      "0\n",
      "1\n",
      "2\n",
      "3\n",
      "4\n",
      "5\n"
     ]
    }
   ],
   "source": [
    "a = 0\n",
    "while a<=5:\n",
    "    print(a)\n",
    "    a = a+1"
   ]
  },
  {
   "cell_type": "code",
   "execution_count": 2,
   "id": "8065fb2c",
   "metadata": {},
   "outputs": [
    {
     "name": "stdout",
     "output_type": "stream",
     "text": [
      "0 Hello world\n",
      "1 Hello world\n",
      "2 Hello world\n",
      "3 Hello world\n",
      "4 Hello world\n"
     ]
    }
   ],
   "source": [
    "a = 0\n",
    "while a<5:\n",
    "    print(a,\"Hello world\")\n",
    "    a = a+1"
   ]
  },
  {
   "cell_type": "code",
   "execution_count": 4,
   "id": "68b89d01",
   "metadata": {},
   "outputs": [
    {
     "name": "stdout",
     "output_type": "stream",
     "text": [
      "Enter n = 5\n",
      "5 * 1 = 5\n",
      "5 * 2 = 10\n",
      "5 * 3 = 15\n",
      "5 * 4 = 20\n",
      "5 * 5 = 25\n",
      "5 * 6 = 30\n",
      "5 * 7 = 35\n",
      "5 * 8 = 40\n",
      "5 * 9 = 45\n",
      "5 * 10 = 50\n"
     ]
    }
   ],
   "source": [
    "i = 1\n",
    "n = int(input(\"Enter n = \"))\n",
    "while i<=10:\n",
    "    print(n,\"*\",i,\"=\",n*i)\n",
    "    i = i+1"
   ]
  },
  {
   "cell_type": "code",
   "execution_count": 1,
   "id": "ffe4ffc5",
   "metadata": {},
   "outputs": [
    {
     "name": "stdout",
     "output_type": "stream",
     "text": [
      "Enter n = 5\n",
      "Enter x = 4\n",
      "sum = 4\n",
      "Enter x = 2\n",
      "sum = 6\n",
      "Enter x = 3\n",
      "sum = 9\n",
      "Enter x = 4\n",
      "sum = 13\n",
      "Enter x = 5\n",
      "sum = 18\n"
     ]
    }
   ],
   "source": [
    "i = 0\n",
    "s = 0\n",
    "n = int(input(\"Enter n = \"))\n",
    "while i<n:\n",
    "    x = int(input(\"Enter x = \"))\n",
    "    s = s + x\n",
    "    i = i + 1\n",
    "    print(\"sum =\",s)"
   ]
  },
  {
   "cell_type": "markdown",
   "id": "3740e3af",
   "metadata": {},
   "source": []
  },
  {
   "cell_type": "code",
   "execution_count": 1,
   "id": "942bfe72",
   "metadata": {},
   "outputs": [
    {
     "name": "stdout",
     "output_type": "stream",
     "text": [
      "Enter n = 5\n",
      "1\n",
      "2\n",
      "6\n",
      "24\n",
      "120\n"
     ]
    }
   ],
   "source": [
    "i = 1\n",
    "fac = 1\n",
    "n = int(input(\"Enter n = \"))\n",
    "while i<=n:\n",
    "    fac = fac * i\n",
    "    i = i + 1\n",
    "    print(fac)"
   ]
  },
  {
   "cell_type": "code",
   "execution_count": 3,
   "id": "77e881fd",
   "metadata": {},
   "outputs": [
    {
     "name": "stdout",
     "output_type": "stream",
     "text": [
      "Enter n = 2\n",
      "Enter name = h\n",
      "Enter phone = 3\n",
      "Enter name = h\n",
      "Enter phone = 4\n",
      "h 3\n",
      "h 4\n",
      "\n"
     ]
    }
   ],
   "source": [
    "s = \"\"\n",
    "i = 0\n",
    "n = int(input(\"Enter n = \"))\n",
    "while i<n:\n",
    "    name = input(\"Enter name = \")\n",
    "    phone = input(\"Enter phone = \")\n",
    "    s = s + name + \" \" + phone + \"\\n\"\n",
    "    i = i + 1\n",
    "print(s)"
   ]
  },
  {
   "cell_type": "code",
   "execution_count": 1,
   "id": "f9a2ed04",
   "metadata": {},
   "outputs": [
    {
     "name": "stdout",
     "output_type": "stream",
     "text": [
      "0\n",
      "1\n",
      "2\n",
      "3\n",
      "4\n",
      "6\n",
      "7\n",
      "8\n",
      "9\n"
     ]
    }
   ],
   "source": [
    "# control statement in while loop\n",
    "i = 0\n",
    "while i<10:\n",
    "    if i == 5:\n",
    "        i = i + 1\n",
    "        continue\n",
    "    print(i)\n",
    "    i = i+1"
   ]
  },
  {
   "cell_type": "code",
   "execution_count": 1,
   "id": "a7457064",
   "metadata": {},
   "outputs": [
    {
     "name": "stdout",
     "output_type": "stream",
     "text": [
      "Enter n = 11\n",
      "The entered number is prime.\n"
     ]
    }
   ],
   "source": [
    "# Wap to find if the given number is prime or composite\n",
    "# Assignment number 1\n",
    "n = int(input(\"Enter n = \"))\n",
    "i = 1\n",
    "count = 0\n",
    "while (i<=n):\n",
    "    if(n%i==0):\n",
    "        count = count + 1\n",
    "    i = i + 1\n",
    "if(count == 2):\n",
    "    print(\"The entered number is prime.\")\n",
    "else:\n",
    "    print(\"The entered number is composite.\")"
   ]
  },
  {
   "cell_type": "code",
   "execution_count": 2,
   "id": "0a9dbb24",
   "metadata": {},
   "outputs": [
    {
     "name": "stdout",
     "output_type": "stream",
     "text": [
      "<class 'str'>\n",
      "<class 'str'>\n",
      "<class 'str'>\n"
     ]
    }
   ],
   "source": [
    "#Strings\n",
    "a = \"Hello world\"\n",
    "b = 'Hello world'\n",
    "c = '''Hello world'''\n",
    "print(type(a))\n",
    "print(type(b))\n",
    "print(type(c))"
   ]
  },
  {
   "cell_type": "code",
   "execution_count": 4,
   "id": "eca5d864",
   "metadata": {},
   "outputs": [
    {
     "name": "stdout",
     "output_type": "stream",
     "text": [
      "Hello world\n"
     ]
    }
   ],
   "source": [
    "a = \"Hello \"\n",
    "b = \"world\"\n",
    "c = a + b\n",
    "print(c)"
   ]
  },
  {
   "cell_type": "code",
   "execution_count": 5,
   "id": "79cb255b",
   "metadata": {},
   "outputs": [
    {
     "name": "stdout",
     "output_type": "stream",
     "text": [
      "Hello world\n",
      "Hello world\n",
      "\n"
     ]
    }
   ],
   "source": [
    "a = \"Hello world\\n\"\n",
    "print(a*2)"
   ]
  },
  {
   "cell_type": "code",
   "execution_count": 7,
   "id": "7a9c5e37",
   "metadata": {},
   "outputs": [
    {
     "name": "stdout",
     "output_type": "stream",
     "text": [
      "H\n",
      "o\n"
     ]
    }
   ],
   "source": [
    "a = \"Hello world\"\n",
    "print(a[0])\n",
    "print(a[4])"
   ]
  },
  {
   "cell_type": "code",
   "execution_count": 9,
   "id": "93b56212",
   "metadata": {},
   "outputs": [
    {
     "name": "stdout",
     "output_type": "stream",
     "text": [
      "Hello\n",
      "Hlowr\n"
     ]
    }
   ],
   "source": [
    "a = \"Hello world\"\n",
    "print(a[0:5])\n",
    "print(a[0:10:2])"
   ]
  },
  {
   "cell_type": "code",
   "execution_count": 10,
   "id": "6f5f1284",
   "metadata": {},
   "outputs": [
    {
     "name": "stdout",
     "output_type": "stream",
     "text": [
      "11\n"
     ]
    }
   ],
   "source": [
    "a = \"Hello world\"\n",
    "print(len(a))"
   ]
  },
  {
   "cell_type": "code",
   "execution_count": 13,
   "id": "e173d06a",
   "metadata": {},
   "outputs": [
    {
     "name": "stdout",
     "output_type": "stream",
     "text": [
      "Hello world"
     ]
    }
   ],
   "source": [
    "a = \"Hello world\"\n",
    "for i in range(len(a)):\n",
    "    print(a[i], end = \"\")\n"
   ]
  },
  {
   "cell_type": "code",
   "execution_count": 15,
   "id": "fb50c2b7",
   "metadata": {},
   "outputs": [
    {
     "name": "stdout",
     "output_type": "stream",
     "text": [
      "Hello world"
     ]
    }
   ],
   "source": [
    "i = 0\n",
    "a = \"Hello world\"\n",
    "while i<len(a):\n",
    "    print(a[i], end = \"\")\n",
    "    i = i+1"
   ]
  },
  {
   "cell_type": "code",
   "execution_count": 19,
   "id": "80d70da7",
   "metadata": {},
   "outputs": [
    {
     "name": "stdout",
     "output_type": "stream",
     "text": [
      "Hello world i am Hillson i am from Kathmandu i am 21 years old.\n"
     ]
    }
   ],
   "source": [
    "# string formatting\n",
    "name = \"Hillson\"\n",
    "age = 21\n",
    "add = \"Kathmandu\"\n",
    "\n",
    "# info = \"Hello world i am \" + name + \" I am from \" + add + \" i am \" + str(age) + \" years old.\"\n",
    "info = f\"Hello world i am {name} i am from {add} i am {age} years old.\"\n",
    "print(info)"
   ]
  },
  {
   "cell_type": "code",
   "execution_count": 20,
   "id": "a1b0cf89",
   "metadata": {},
   "outputs": [
    {
     "name": "stdout",
     "output_type": "stream",
     "text": [
      "enter n = 2\n",
      "enter name = Hillson\n",
      "Enter phone = 07\n",
      "enter name = diaz\n",
      "Enter phone = 10\n",
      "Hillson 07\n",
      "diaz 10\n",
      "\n"
     ]
    }
   ],
   "source": [
    "s = \"\"\n",
    "i = 0\n",
    "n = int(input(\"enter n = \"))\n",
    "while i<n:\n",
    "    name = input(\"enter name = \")\n",
    "    phone = input(\"Enter phone = \")\n",
    "    s = s + f\"{name} {phone}\\n\"\n",
    "    i = i+1\n",
    "print(s)"
   ]
  },
  {
   "cell_type": "code",
   "execution_count": 22,
   "id": "f596c0ce",
   "metadata": {},
   "outputs": [
    {
     "name": "stdout",
     "output_type": "stream",
     "text": [
      "enter search value = ram\n",
      "No\n"
     ]
    }
   ],
   "source": [
    "# search in string\n",
    "a = \"Hillson sachin diaz sambhav dipson appu\"\n",
    "search = input(\"enter search value = \")\n",
    "if search in a:\n",
    "    print(\"Yes\")\n",
    "else:\n",
    "    print(\"No\")"
   ]
  },
  {
   "cell_type": "code",
   "execution_count": 24,
   "id": "644aa7c3",
   "metadata": {},
   "outputs": [
    {
     "name": "stdout",
     "output_type": "stream",
     "text": [
      "RAM SHYAM SACHIN DIAX HILLSON\n",
      "ram shyam sachin diax hillson\n",
      "ram shyam sachin diax hillson\n"
     ]
    }
   ],
   "source": [
    "a = \"ram shyam sachin diax hillson\"\n",
    "print(a.upper())\n",
    "print(a.lower())\n",
    "print(a)"
   ]
  },
  {
   "cell_type": "code",
   "execution_count": 26,
   "id": "4df6d71c",
   "metadata": {},
   "outputs": [
    {
     "name": "stdout",
     "output_type": "stream",
     "text": [
      "enter search value = SAchin\n",
      "Yes\n",
      "1\n"
     ]
    }
   ],
   "source": [
    "# search in string\n",
    "a = \"Hillson sachin diaz sambhav dipson appu\".lower()\n",
    "search = input(\"enter search value = \").lower()\n",
    "if search in a:\n",
    "    print(\"Yes\")\n",
    "    print(a.count(search))\n",
    "else:\n",
    "    print(\"No\")"
   ]
  },
  {
   "cell_type": "code",
   "execution_count": 27,
   "id": "6f5d7a38",
   "metadata": {},
   "outputs": [
    {
     "name": "stdout",
     "output_type": "stream",
     "text": [
      "Hill sachin diaz sambhav dipson appu\n"
     ]
    }
   ],
   "source": [
    "# replace\n",
    "a = \"Hillson sachin diaz sambhav dipson appu\"\n",
    "a = a.replace(\"Hillson\",\"Hill\")\n",
    "print(a)"
   ]
  },
  {
   "cell_type": "code",
   "execution_count": 28,
   "id": "981e9077",
   "metadata": {},
   "outputs": [
    {
     "name": "stdout",
     "output_type": "stream",
     "text": [
      " sachin diaz sambhav dipson appu\n"
     ]
    }
   ],
   "source": [
    "# replace\n",
    "a = \"Hillson sachin diaz sambhav dipson appu\"\n",
    "a = a.replace(\"Hillson\",\"\")\n",
    "print(a)"
   ]
  },
  {
   "cell_type": "code",
   "execution_count": 29,
   "id": "9cb048f8",
   "metadata": {},
   "outputs": [
    {
     "data": {
      "text/plain": [
       "['Hillson', 'sachin', 'diaz', 'sambhav', 'dipson', 'appu']"
      ]
     },
     "execution_count": 29,
     "metadata": {},
     "output_type": "execute_result"
    }
   ],
   "source": [
    "# split\n",
    "a = \"Hillson sachin diaz sambhav dipson appu\"\n",
    "a.split()"
   ]
  },
  {
   "cell_type": "code",
   "execution_count": 1,
   "id": "159f5660",
   "metadata": {},
   "outputs": [
    {
     "name": "stdout",
     "output_type": "stream",
     "text": [
      "H\n",
      "e\n",
      "l\n",
      "l\n",
      "o\n",
      "5\n",
      " \n",
      "w\n",
      "o\n",
      "r\n",
      "l\n",
      "d\n",
      "11\n",
      " \n",
      "i\n",
      "13\n",
      " \n",
      "a\n",
      "m\n",
      "16\n",
      " \n",
      "p\n",
      "y\n",
      "t\n",
      "h\n",
      "o\n",
      "n\n",
      "The space in string is:  23\n"
     ]
    }
   ],
   "source": [
    "# Assignment number 2\n",
    "i = 0\n",
    "count = 0\n",
    "a = \"Hello world i am python\"\n",
    "while i<(len(a)):\n",
    "    if a[i] == \" \":\n",
    "        print(i)\n",
    "    \n",
    "    count = count + 1\n",
    "    print(a[i])\n",
    "    i = i + 1\n",
    "print(\"The space in string is: \", count)"
   ]
  },
  {
   "cell_type": "code",
   "execution_count": 2,
   "id": "440bc5f2",
   "metadata": {},
   "outputs": [],
   "source": [
    "# # python data collection\n",
    "# list \n",
    "# tuple\n",
    "# dict \n",
    "# set"
   ]
  },
  {
   "cell_type": "code",
   "execution_count": 3,
   "id": "b4939b64",
   "metadata": {},
   "outputs": [],
   "source": [
    "# # list \n",
    "# indexing\n",
    "# multiple and duplicate data\n",
    "# ordred \n",
    "# mutable"
   ]
  },
  {
   "cell_type": "code",
   "execution_count": 4,
   "id": "c04f63af",
   "metadata": {},
   "outputs": [
    {
     "name": "stdout",
     "output_type": "stream",
     "text": [
      "<class 'list'>\n",
      "<class 'list'>\n"
     ]
    }
   ],
   "source": [
    "# l = list()\n",
    "l = [\"Apple\",\"Ball\",\"Cat\",\"Dog\",\"Fish\"]\n",
    "a = [1,2,3,4,5,6,7,8,9,0]\n",
    "print(type(l))\n",
    "print(type(a))"
   ]
  },
  {
   "cell_type": "code",
   "execution_count": 10,
   "id": "c60e0587",
   "metadata": {},
   "outputs": [
    {
     "name": "stdout",
     "output_type": "stream",
     "text": [
      "['Apple', 'Ball', 'Cat', 'Dog', 'Fish']\n",
      "Apple\n",
      "['Apple', 'Ball', 'Cat', 'Dog']\n",
      "['Apple', 'Cat']\n"
     ]
    }
   ],
   "source": [
    "l = [\"Apple\",\"Ball\",\"Cat\",\"Dog\",\"Fish\"]\n",
    "print(l)\n",
    "print(l[0])\n",
    "print(l[0:4])\n",
    "print(l[0:4:2])"
   ]
  },
  {
   "cell_type": "code",
   "execution_count": 11,
   "id": "d5774dec",
   "metadata": {},
   "outputs": [
    {
     "name": "stdout",
     "output_type": "stream",
     "text": [
      "[1, 2, 3, 4, 5, 6, 7, 8, 9]\n"
     ]
    }
   ],
   "source": [
    "a = [1,2,3,4]\n",
    "b = [5,6,7,8,9]\n",
    "c = a+b\n",
    "print(c)"
   ]
  },
  {
   "cell_type": "code",
   "execution_count": 12,
   "id": "f1661030",
   "metadata": {},
   "outputs": [
    {
     "name": "stdout",
     "output_type": "stream",
     "text": [
      "[1, 2, 3, 4, 1, 2, 3, 4]\n"
     ]
    }
   ],
   "source": [
    "a = [1,2,3,4]\n",
    "print(a*2)"
   ]
  },
  {
   "cell_type": "code",
   "execution_count": 13,
   "id": "b7ae446a",
   "metadata": {},
   "outputs": [
    {
     "name": "stdout",
     "output_type": "stream",
     "text": [
      "Apple\n",
      "Ball\n",
      "Cat\n",
      "Dog\n",
      "Fish\n"
     ]
    }
   ],
   "source": [
    "l = [\"Apple\",\"Ball\",\"Cat\",\"Dog\",\"Fish\"]\n",
    "for i in l:\n",
    "    print(i)"
   ]
  },
  {
   "cell_type": "code",
   "execution_count": 17,
   "id": "bcc42bf4",
   "metadata": {},
   "outputs": [
    {
     "name": "stdout",
     "output_type": "stream",
     "text": [
      "Enter search: Ball\n",
      "yes\n",
      "1\n"
     ]
    }
   ],
   "source": [
    "l = [\"Apple\",\"Ball\",\"Cat\",\"Dog\",\"Fish\"]\n",
    "search = input('Enter search: ')\n",
    "if search in l:\n",
    "    print(\"yes\")\n",
    "    print(l.count(search))\n",
    "else:\n",
    "    print(\"No\")"
   ]
  },
  {
   "cell_type": "code",
   "execution_count": null,
   "id": "ca699c3a",
   "metadata": {},
   "outputs": [],
   "source": [
    "# append() extend() insert()"
   ]
  },
  {
   "cell_type": "code",
   "execution_count": 18,
   "id": "579b195f",
   "metadata": {},
   "outputs": [
    {
     "name": "stdout",
     "output_type": "stream",
     "text": [
      "['Apple', 'Cat', 'Dog']\n"
     ]
    }
   ],
   "source": [
    "a = []\n",
    "a.append(\"Apple\")\n",
    "a.append(\"Cat\")\n",
    "a.append(\"Dog\")\n",
    "print(a)"
   ]
  },
  {
   "cell_type": "code",
   "execution_count": 19,
   "id": "575453cd",
   "metadata": {},
   "outputs": [
    {
     "name": "stdout",
     "output_type": "stream",
     "text": [
      "enter the value of n: 3\n",
      "Enter the value of x: 4\n",
      "Enter the value of x: 5\n",
      "Enter the value of x: 6\n",
      "[4, 5, 6]\n"
     ]
    }
   ],
   "source": [
    "l = []\n",
    "n = int(input(\"enter the value of n: \"))\n",
    "for i in range(n):\n",
    "    x = int(input(\"Enter the value of x: \"))\n",
    "    l.append(x)\n",
    "    \n",
    "print(l)"
   ]
  },
  {
   "cell_type": "code",
   "execution_count": 24,
   "id": "905884d6",
   "metadata": {},
   "outputs": [
    {
     "name": "stdout",
     "output_type": "stream",
     "text": [
      "Maximum value =  54\n",
      "Minimum value =  2\n",
      "Sum of list =  293\n",
      "[2, 12, 34, 42, 43, 53, 53, 54]\n"
     ]
    }
   ],
   "source": [
    "l = [12,34,53,53,43,2,42,54]\n",
    "print(\"Maximum value = \",max(l))\n",
    "print(\"Minimum value = \",min(l))\n",
    "print(\"Sum of list = \",sum(l))\n",
    "l.sort()\n",
    "print(l)"
   ]
  },
  {
   "cell_type": "code",
   "execution_count": 22,
   "id": "820a0cf3",
   "metadata": {},
   "outputs": [
    {
     "name": "stdout",
     "output_type": "stream",
     "text": [
      "['Ball', 'Cat', 'Love', 'zoo']\n"
     ]
    }
   ],
   "source": [
    "a = [\"Ball\",\"Cat\",\"zoo\",\"Love\"]\n",
    "a.sort()\n",
    "print(a)"
   ]
  },
  {
   "cell_type": "code",
   "execution_count": 25,
   "id": "4e81b202",
   "metadata": {},
   "outputs": [
    {
     "name": "stdout",
     "output_type": "stream",
     "text": [
      "['Ball', 'Hillson', 'Cat', 'zoo', 'Love']\n"
     ]
    }
   ],
   "source": [
    "a = [\"Ball\",\"Cat\",\"zoo\",\"Love\"]\n",
    "a.insert(1,\"Hillson\")\n",
    "print(a)"
   ]
  },
  {
   "cell_type": "code",
   "execution_count": 26,
   "id": "8fe20bf1",
   "metadata": {},
   "outputs": [
    {
     "name": "stdout",
     "output_type": "stream",
     "text": [
      "[1, 2, 3, 7, 5, 6, 9, 0, 4, 5, 6, 2, 7, 3]\n"
     ]
    }
   ],
   "source": [
    "a = [1,2,3,7,5,6,9]\n",
    "b = [0,4,5,6,2,7,3]\n",
    "a.extend(b)\n",
    "print(a)"
   ]
  },
  {
   "cell_type": "code",
   "execution_count": 27,
   "id": "30916e21",
   "metadata": {},
   "outputs": [],
   "source": [
    "# del remove() pop()"
   ]
  },
  {
   "cell_type": "code",
   "execution_count": 28,
   "id": "91e067b6",
   "metadata": {},
   "outputs": [
    {
     "name": "stdout",
     "output_type": "stream",
     "text": [
      "['Cat', 'zoo', 'Love']\n"
     ]
    }
   ],
   "source": [
    "a = [\"Ball\",\"Cat\",\"zoo\",\"Love\"]\n",
    "del a[0]\n",
    "print(a)"
   ]
  },
  {
   "cell_type": "code",
   "execution_count": 32,
   "id": "d9ad92ae",
   "metadata": {},
   "outputs": [
    {
     "name": "stdout",
     "output_type": "stream",
     "text": [
      "['zoo', 'Ink']\n"
     ]
    }
   ],
   "source": [
    "a = [\"Ball\",\"Cat\",\"zoo\",\"Ink\"]\n",
    "del a[0:2]\n",
    "print(a)"
   ]
  },
  {
   "cell_type": "code",
   "execution_count": 41,
   "id": "749673d8",
   "metadata": {},
   "outputs": [
    {
     "name": "stdout",
     "output_type": "stream",
     "text": [
      "['Ball', 'zoo', 'Ink']\n"
     ]
    }
   ],
   "source": [
    "a = [\"Ball\",\"Cat\",\"zoo\",\"Ink\",\"Cat\"]\n",
    "c = a.count(\"Cat\")\n",
    "for i in range(c):\n",
    "    a.remove(\"Cat\")\n",
    "print(a)"
   ]
  },
  {
   "cell_type": "code",
   "execution_count": 44,
   "id": "f9af867b",
   "metadata": {},
   "outputs": [
    {
     "name": "stdout",
     "output_type": "stream",
     "text": [
      "0\n"
     ]
    }
   ],
   "source": [
    "a = [\"Ball\",\"Cat\",\"zoo\",\"Ink\",\"Cat\"]\n",
    "c = len(a)\n",
    "for i in range(c):\n",
    "    if \"Ball\" == a[i]:\n",
    "        print(i)"
   ]
  },
  {
   "cell_type": "code",
   "execution_count": 46,
   "id": "6b5135f0",
   "metadata": {},
   "outputs": [
    {
     "name": "stdout",
     "output_type": "stream",
     "text": [
      "Accesing the list\n",
      "6\n"
     ]
    }
   ],
   "source": [
    "list = 'Hillson' , 5 , 1 , 2 , 7 , 0 , 4 , 9 , 6 , 'sachin'\n",
    "print(\"Accesing the list\")\n",
    "\n",
    "print(list[-2])"
   ]
  },
  {
   "cell_type": "code",
   "execution_count": 47,
   "id": "b1f58d94",
   "metadata": {},
   "outputs": [
    {
     "name": "stdout",
     "output_type": "stream",
     "text": [
      "[1, 9, 25, 49, 81]\n"
     ]
    }
   ],
   "source": [
    "odd_square = [x ** 2 for x in range(1,11) if x % 2 == 1]\n",
    "print(odd_square)"
   ]
  },
  {
   "cell_type": "code",
   "execution_count": 48,
   "id": "d27702c0",
   "metadata": {},
   "outputs": [
    {
     "name": "stdout",
     "output_type": "stream",
     "text": [
      "[1, 9, 25, 49, 81]\n"
     ]
    }
   ],
   "source": [
    "odd_square = []\n",
    "for x in range(1,11):\n",
    "    if x % 2 == 1:\n",
    "        odd_square.append(x**2)\n",
    "print(odd_square)"
   ]
  },
  {
   "cell_type": "code",
   "execution_count": 49,
   "id": "88e50cb8",
   "metadata": {},
   "outputs": [],
   "source": [
    "# dictonary\n",
    "# -indexing\n",
    "# -ordered\n",
    "# -multiple and duplicate data\n",
    "# -mutable"
   ]
  },
  {
   "cell_type": "code",
   "execution_count": 50,
   "id": "b454cb0e",
   "metadata": {},
   "outputs": [],
   "source": [
    "# d = {<key>:<value>, <key>:<value>,....}\n"
   ]
  },
  {
   "cell_type": "code",
   "execution_count": 51,
   "id": "7c85881e",
   "metadata": {
    "scrolled": true
   },
   "outputs": [
    {
     "name": "stdout",
     "output_type": "stream",
     "text": [
      "<class 'dict'>\n"
     ]
    }
   ],
   "source": [
    "d = {'a':'apple','b':'ball','c':'cat'}\n",
    "print(type(d))"
   ]
  },
  {
   "cell_type": "code",
   "execution_count": 52,
   "id": "1a0c8fa9",
   "metadata": {},
   "outputs": [
    {
     "name": "stdout",
     "output_type": "stream",
     "text": [
      "apple\n"
     ]
    }
   ],
   "source": [
    "print(d['a'])"
   ]
  },
  {
   "cell_type": "code",
   "execution_count": 53,
   "id": "eff33cd1",
   "metadata": {},
   "outputs": [
    {
     "name": "stdout",
     "output_type": "stream",
     "text": [
      "{'a': 'apple', 'b': 'ball', 'c': 'cat'}\n",
      "<class 'dict'>\n"
     ]
    }
   ],
   "source": [
    "d = {'a':'apple','b':'ball','c':'cat'}\n",
    "print(d)\n",
    "print(type(d))"
   ]
  },
  {
   "cell_type": "code",
   "execution_count": 55,
   "id": "0667d036",
   "metadata": {},
   "outputs": [
    {
     "name": "stdout",
     "output_type": "stream",
     "text": [
      "{'a': 'apple', 'b': 'ball', 'c': 'cat', 'C': 'cow'}\n"
     ]
    }
   ],
   "source": [
    "d = {'a':'apple','b':'ball','c':'cat','C':'cow'}\n",
    "print(d)"
   ]
  },
  {
   "cell_type": "code",
   "execution_count": 58,
   "id": "ebb330a8",
   "metadata": {},
   "outputs": [
    {
     "name": "stdout",
     "output_type": "stream",
     "text": [
      "{'a': 'apple', 'b': 'ball', 'c': 'cat', 1: 1, 2: 4, 3: 9}\n"
     ]
    }
   ],
   "source": [
    "a = {'a':'apple','b':'ball','c':'cat'}\n",
    "b = {1:1,2:4,3:9}\n",
    "a.update(b)\n",
    "print(a)"
   ]
  },
  {
   "cell_type": "code",
   "execution_count": 60,
   "id": "9bf5e641",
   "metadata": {},
   "outputs": [
    {
     "name": "stdout",
     "output_type": "stream",
     "text": [
      "abc"
     ]
    }
   ],
   "source": [
    "a = {'a':'apple','b':'ball','c':'cat'}\n",
    "for i in a:\n",
    "    print(i,end='')"
   ]
  },
  {
   "cell_type": "code",
   "execution_count": 62,
   "id": "ef1e1245",
   "metadata": {},
   "outputs": [
    {
     "name": "stdout",
     "output_type": "stream",
     "text": [
      "apple ball cat "
     ]
    }
   ],
   "source": [
    "a = {'a':'apple','b':'ball','c':'cat'}\n",
    "for i in a.values():\n",
    "    print(i,end=' ')"
   ]
  },
  {
   "cell_type": "code",
   "execution_count": 65,
   "id": "f160636c",
   "metadata": {},
   "outputs": [
    {
     "name": "stdout",
     "output_type": "stream",
     "text": [
      "('a', 'apple') ('b', 'ball') ('c', 'cat') ('C', 'Cow') "
     ]
    }
   ],
   "source": [
    "a = {'a':'apple','b':'ball','c':'cat','C':'Cow'}\n",
    "for i in a.items():\n",
    "    print(i,end=' ')"
   ]
  },
  {
   "cell_type": "code",
   "execution_count": 68,
   "id": "87565b45",
   "metadata": {},
   "outputs": [
    {
     "name": "stdout",
     "output_type": "stream",
     "text": [
      "{'a': 'Animal', 'b': 'Brother', 'c': 'Cat'}\n"
     ]
    }
   ],
   "source": [
    "# create \n",
    "# d = dict()\n",
    "d = {}\n",
    "d['a'] = \"Animal\"\n",
    "d['b'] = \"Brother\"\n",
    "d['c'] = \"Cat\"\n",
    "print(d)"
   ]
  },
  {
   "cell_type": "code",
   "execution_count": 71,
   "id": "626d4596",
   "metadata": {},
   "outputs": [
    {
     "name": "stdout",
     "output_type": "stream",
     "text": [
      "{'a': 'Ant', 'b': 'Brother', 'c': 'Cat'}\n"
     ]
    }
   ],
   "source": [
    "# update\n",
    "d = {'a': 'Animal', 'b': 'Brother', 'c': 'Cat'}\n",
    "d['a'] = \"Ant\"\n",
    "print(d)"
   ]
  },
  {
   "cell_type": "code",
   "execution_count": 72,
   "id": "b09600ca",
   "metadata": {},
   "outputs": [
    {
     "name": "stdout",
     "output_type": "stream",
     "text": [
      "{'b': 'Brother', 'c': 'Cat'}\n"
     ]
    }
   ],
   "source": [
    "# del pop()\n",
    "d = {'a': 'Animal', 'b': 'Brother', 'c': 'Cat'}\n",
    "del d['a']\n",
    "print(d)"
   ]
  },
  {
   "cell_type": "code",
   "execution_count": 74,
   "id": "fc6a8379",
   "metadata": {},
   "outputs": [
    {
     "name": "stdout",
     "output_type": "stream",
     "text": [
      "Animal\n",
      "{'b': 'Brother', 'c': 'Cat'}\n"
     ]
    }
   ],
   "source": [
    "d = {'a': 'Animal', 'b': 'Brother', 'c': 'Cat'}\n",
    "b = d.pop('a')\n",
    "print(b)\n",
    "print(d)"
   ]
  },
  {
   "cell_type": "code",
   "execution_count": 77,
   "id": "40668e07",
   "metadata": {},
   "outputs": [
    {
     "name": "stdout",
     "output_type": "stream",
     "text": [
      "{'Hillson': [9816964352, 9876543210], 'sachin': [9741722489, 94375239754], 'suyog': [9825925969, 38495892378]}\n"
     ]
    }
   ],
   "source": [
    "# list inside dictionary\n",
    "info = {'Hillson':[9816964352,9876543210],\n",
    "        'sachin':[9741722489,94375239754],\n",
    "        'suyog':[9825925969,38495892378]}\n",
    "print(info)"
   ]
  },
  {
   "cell_type": "code",
   "execution_count": 78,
   "id": "d71a1c37",
   "metadata": {},
   "outputs": [
    {
     "data": {
      "text/plain": [
       "[9816964352, 9876543210]"
      ]
     },
     "execution_count": 78,
     "metadata": {},
     "output_type": "execute_result"
    }
   ],
   "source": [
    "info['Hillson']"
   ]
  },
  {
   "cell_type": "code",
   "execution_count": 79,
   "id": "b9b8e5ca",
   "metadata": {},
   "outputs": [
    {
     "name": "stdout",
     "output_type": "stream",
     "text": [
      "[9816964352, 9876543210]\n",
      "9816964352\n"
     ]
    }
   ],
   "source": [
    "print(info['Hillson'])\n",
    "print(info['Hillson'][0])"
   ]
  },
  {
   "cell_type": "code",
   "execution_count": 81,
   "id": "1f5bea07",
   "metadata": {},
   "outputs": [
    {
     "data": {
      "text/plain": [
       "{'Hillson': [9816964352, 93485983457],\n",
       " 'sachin': [9741722489, 94375239754],\n",
       " 'suyog': [9825925969, 38495892378]}"
      ]
     },
     "execution_count": 81,
     "metadata": {},
     "output_type": "execute_result"
    }
   ],
   "source": [
    "info['Hillson'][1] = 93485983457\n",
    "info"
   ]
  },
  {
   "cell_type": "code",
   "execution_count": 2,
   "id": "dc02c225",
   "metadata": {},
   "outputs": [
    {
     "name": "stdout",
     "output_type": "stream",
     "text": [
      "Enter n: 2\n",
      "enter the name: hillson\n",
      "Enter ntc no: 98426753244\n",
      "Enter ncell no: 9816964352\n",
      "enter the name: suyog\n",
      "Enter ntc no: 9343982477\n",
      "Enter ncell no: 9825925969\n",
      "{'hillson': ['98426753244', '9816964352'], 'suyog': ['9343982477', '9825925969']}\n"
     ]
    }
   ],
   "source": [
    "d = {}\n",
    "n = int(input(\"Enter n: \"))\n",
    "for i in range(n):\n",
    "    name = input(\"enter the name: \")\n",
    "    ntc = input(\"Enter ntc no: \")\n",
    "    ncell = input(\"Enter ncell no: \")\n",
    "    d[name] = [ntc,ncell]\n",
    "print(d)"
   ]
  },
  {
   "cell_type": "code",
   "execution_count": 3,
   "id": "57713855",
   "metadata": {},
   "outputs": [
    {
     "name": "stdout",
     "output_type": "stream",
     "text": [
      "Ram 9874574894 98349473\n"
     ]
    }
   ],
   "source": [
    "d = {'name':['Ram','sachin'],\n",
    "    'ntc':[9874574894,894478634],\n",
    "    'ncell':[98349473,98435798347]}\n",
    "print(d['name'][0],d['ntc'][0],d['ncell'][0])"
   ]
  },
  {
   "cell_type": "code",
   "execution_count": 7,
   "id": "57a43d0d",
   "metadata": {},
   "outputs": [
    {
     "name": "stdout",
     "output_type": "stream",
     "text": [
      "Enter an index(0 or 1): 1\n",
      "value at index 1 : {'name': 'sachin', 'ntc': 894478634, 'ncell': 98435798347}\n"
     ]
    }
   ],
   "source": [
    "d = {'name':['Ram','sachin'],\n",
    "    'ntc':[9874574894,894478634],\n",
    "    'ncell':[98349473,98435798347]}\n",
    "index = int(input(\"Enter an index(0 or 1): \"))\n",
    "a = {}\n",
    "\n",
    "for i in d:\n",
    "    value = d[i][index]\n",
    "    \n",
    "    a[i] = value\n",
    "\n",
    "print(\"value at index\", index, \":\", a)"
   ]
  },
  {
   "cell_type": "code",
   "execution_count": 2,
   "id": "33d3b161",
   "metadata": {},
   "outputs": [
    {
     "name": "stdout",
     "output_type": "stream",
     "text": [
      "[{'name': 'ram', 'age': 22, 'add': 'kathmandu'}, {'name': 'shyam', 'age': 25, 'add': 'jhapa'}, {'name': 'hari', 'age': 28, 'add': 'bhaktapur'}, {'name': 'sita', 'age': 21, 'add': 'morang'}]\n"
     ]
    }
   ],
   "source": [
    "# dict inside list\n",
    "d = [{'name':'ram','age':22,'add':'kathmandu'},\n",
    "    {'name': 'shyam','age':25,'add':'jhapa'},\n",
    "    {'name': 'hari','age':28,'add':'bhaktapur'},\n",
    "    {'name': 'sita','age':21,'add':'morang'},]\n",
    "print(d)"
   ]
  },
  {
   "cell_type": "code",
   "execution_count": 3,
   "id": "e8cf3b43",
   "metadata": {},
   "outputs": [
    {
     "name": "stdout",
     "output_type": "stream",
     "text": [
      "{'name': 'ram', 'age': 22, 'add': 'kathmandu'}\n",
      "ram\n"
     ]
    }
   ],
   "source": [
    "print(d[0])\n",
    "print(d[0]['name'])"
   ]
  },
  {
   "cell_type": "code",
   "execution_count": 11,
   "id": "365c861b",
   "metadata": {},
   "outputs": [
    {
     "name": "stdout",
     "output_type": "stream",
     "text": [
      "Enter n: 1\n",
      "Enter name: fw\n",
      "Enter ntc no: \n",
      "Enter ncell no: \n",
      "[{'name': 'fw', 'ntc': '', 'ncell': ''}]\n"
     ]
    }
   ],
   "source": [
    "l = []\n",
    "n = int(input(\"Enter n: \"))\n",
    "for i in range(n):\n",
    "    name = input(\"Enter name: \")\n",
    "    ntc = input(\"Enter ntc no: \")    \n",
    "    ncell = input(\"Enter ncell no: \")\n",
    "    d = {'name':name,'ntc':ntc,'ncell':ncell}\n",
    "    l.append(d)\n",
    "print(l)"
   ]
  },
  {
   "cell_type": "markdown",
   "id": "f956ac8b",
   "metadata": {},
   "source": []
  },
  {
   "cell_type": "code",
   "execution_count": 6,
   "id": "360b6f94",
   "metadata": {},
   "outputs": [
    {
     "data": {
      "text/plain": [
       "{'name': 'suyog ', 'ntc': '98348393443', 'ncell': '9825925969'}"
      ]
     },
     "execution_count": 6,
     "metadata": {},
     "output_type": "execute_result"
    }
   ],
   "source": [
    "l[1]"
   ]
  },
  {
   "cell_type": "code",
   "execution_count": 7,
   "id": "0a90f295",
   "metadata": {},
   "outputs": [
    {
     "name": "stdout",
     "output_type": "stream",
     "text": [
      "{1: {'name': 'Ram', 'age': 18, 'add': 'kathmandu'}, 2: {'name': 'shyam', 'age': 20, 'add': 'bhaktapur'}, 3: {'name': 'hillson', 'age': 21, 'add': 'jhapa'}}\n"
     ]
    }
   ],
   "source": [
    "info = {1:{'name':'Ram','age':18,'add':'kathmandu'},\n",
    "        2:{'name':'shyam','age':20,'add':'bhaktapur'},\n",
    "        3:{'name':'hillson','age':21,'add':'jhapa'},}\n",
    "print(info)"
   ]
  },
  {
   "cell_type": "code",
   "execution_count": 8,
   "id": "22095317",
   "metadata": {},
   "outputs": [
    {
     "data": {
      "text/plain": [
       "{'name': 'Ram', 'age': 18, 'add': 'kathmandu'}"
      ]
     },
     "execution_count": 8,
     "metadata": {},
     "output_type": "execute_result"
    }
   ],
   "source": [
    "info[1]"
   ]
  },
  {
   "cell_type": "code",
   "execution_count": null,
   "id": "fb8befa6",
   "metadata": {},
   "outputs": [
    {
     "name": "stdout",
     "output_type": "stream",
     "text": [
      "Enter n: 2\n",
      "Enter name: s\n",
      "Enter age: 4243\n",
      "Enter address: rfw\n"
     ]
    }
   ],
   "source": [
    "info = {}\n",
    "n = int(input(\"Enter n: \"))\n",
    "for i in range(1,n+1):\n",
    "    name = input(\"Enter name: \")\n",
    "    age = input(\"Enter age: \")    \n",
    "    address = input(\"Enter address: \")\n",
    "    d = {'name':name,'age':age,'address':address}\n",
    "    l.append(d)\n",
    "    info[i]= d\n",
    "print(info)"
   ]
  },
  {
   "cell_type": "code",
   "execution_count": null,
   "id": "9d0f01cd",
   "metadata": {},
   "outputs": [],
   "source": [
    "info[]['addm'] = {'name':'hillson','age':21,'add':'jhapa'}\n",
    "print(info)"
   ]
  },
  {
   "cell_type": "code",
   "execution_count": 1,
   "id": "ddfffcaa",
   "metadata": {},
   "outputs": [],
   "source": [
    "# # Tuple\n",
    "# indexing\n",
    "# ordered\n",
    "# multiple and dublicate data\n",
    "# imutable"
   ]
  },
  {
   "cell_type": "code",
   "execution_count": 2,
   "id": "d179e973",
   "metadata": {},
   "outputs": [],
   "source": [
    "t = tuple()"
   ]
  },
  {
   "cell_type": "code",
   "execution_count": 8,
   "id": "8a993cf2",
   "metadata": {},
   "outputs": [
    {
     "name": "stdout",
     "output_type": "stream",
     "text": [
      "<class 'tuple'>\n",
      "('Apple', 'Ball', 'Cat', 'Dog')\n"
     ]
    }
   ],
   "source": [
    "t = (\"Apple\",\"Ball\",\"Cat\",\"Dog\")\n",
    "print(type(t))\n",
    "print(t)"
   ]
  },
  {
   "cell_type": "code",
   "execution_count": 5,
   "id": "5c7b6bd6",
   "metadata": {},
   "outputs": [
    {
     "name": "stdout",
     "output_type": "stream",
     "text": [
      "<class 'tuple'>\n"
     ]
    }
   ],
   "source": [
    "t = (\"Apple\",)\n",
    "print(type(t))"
   ]
  },
  {
   "cell_type": "code",
   "execution_count": 7,
   "id": "8c9804eb",
   "metadata": {},
   "outputs": [
    {
     "name": "stdout",
     "output_type": "stream",
     "text": [
      "Dog\n"
     ]
    }
   ],
   "source": [
    "t = (\"Apple\",\"Ball\",\"Cat\",\"Dog\")\n",
    "print(t[3])"
   ]
  },
  {
   "cell_type": "code",
   "execution_count": 9,
   "id": "b7aa1014",
   "metadata": {},
   "outputs": [],
   "source": [
    "# no append() insert() extend()\n",
    "# no update\n",
    "# no del remove() pop()\n",
    "# no sort()"
   ]
  },
  {
   "cell_type": "code",
   "execution_count": 10,
   "id": "66b077dd",
   "metadata": {},
   "outputs": [
    {
     "name": "stdout",
     "output_type": "stream",
     "text": [
      "(1, 2, 3, 4, 5, 6, 9, 8, 7, 1, 4, 6)\n"
     ]
    }
   ],
   "source": [
    "a = (1,2,3,4,5,6)\n",
    "b = (9,8,7,1,4,6)\n",
    "c = a+b\n",
    "print(c)"
   ]
  },
  {
   "cell_type": "code",
   "execution_count": 3,
   "id": "baa0b5cf",
   "metadata": {},
   "outputs": [
    {
     "name": "stdout",
     "output_type": "stream",
     "text": [
      "Enter n = 2\n",
      "Enter x = 23\n",
      "Enter x = 43\n",
      "(23, 43)\n"
     ]
    }
   ],
   "source": [
    "a = tuple()\n",
    "n = int(input(\"Enter n = \"))\n",
    "for i in range(n):\n",
    "    x = int(input(\"Enter x = \"))\n",
    "    a = a + (x,)\n",
    "    \n",
    "print(a)"
   ]
  },
  {
   "cell_type": "code",
   "execution_count": 4,
   "id": "f19d0478",
   "metadata": {},
   "outputs": [
    {
     "name": "stdout",
     "output_type": "stream",
     "text": [
      "43\n",
      "23\n",
      "66\n"
     ]
    }
   ],
   "source": [
    "print(max(a))\n",
    "print(min(a))\n",
    "print(sum(a))"
   ]
  },
  {
   "cell_type": "code",
   "execution_count": 6,
   "id": "45862df9",
   "metadata": {},
   "outputs": [
    {
     "name": "stdout",
     "output_type": "stream",
     "text": [
      "('Ball', 'Cat', 'Dog')\n"
     ]
    }
   ],
   "source": [
    "t = (\"Apple\",\"Ball\",\"Cat\",\"Dog\")\n",
    "t = list(t)\n",
    "del t[0]\n",
    "t = tuple(t)\n",
    "print(t)"
   ]
  },
  {
   "cell_type": "code",
   "execution_count": 10,
   "id": "b65262e2",
   "metadata": {},
   "outputs": [
    {
     "name": "stdout",
     "output_type": "stream",
     "text": [
      "('A', 'p', 'p', 'l', 'e')\n",
      "['A', 'p', 'p', 'l', 'e']\n"
     ]
    }
   ],
   "source": [
    "a = \"Apple\"\n",
    "print(tuple(a))\n",
    "print(list(a))"
   ]
  },
  {
   "cell_type": "code",
   "execution_count": 11,
   "id": "21ecf6a3",
   "metadata": {},
   "outputs": [],
   "source": [
    "# # set\n",
    "# no indexing\n",
    "# unordered\n",
    "# multiple but no duplicate data\n",
    "# mutable"
   ]
  },
  {
   "cell_type": "code",
   "execution_count": 12,
   "id": "f05dc28a",
   "metadata": {},
   "outputs": [],
   "source": [
    "# s = set()\n"
   ]
  },
  {
   "cell_type": "code",
   "execution_count": 18,
   "id": "f6f18118",
   "metadata": {},
   "outputs": [
    {
     "name": "stdout",
     "output_type": "stream",
     "text": [
      "<class 'set'>\n",
      "{'Aadesh', 'Sachin', 'Hillson', 'Diaz'}\n"
     ]
    }
   ],
   "source": [
    "s = {\"Hillson\",\"Diaz\",\"Sachin\",\"Aadesh\"}\n",
    "print(type(s))\n",
    "print(s)"
   ]
  },
  {
   "cell_type": "code",
   "execution_count": 19,
   "id": "f83d5a30",
   "metadata": {},
   "outputs": [
    {
     "name": "stdout",
     "output_type": "stream",
     "text": [
      "{'Aadesh', 'Sachin', 'Hillson', 'Diaz'}\n"
     ]
    }
   ],
   "source": [
    "s = {\"Hillson\",\"Diaz\",\"Sachin\",\"Aadesh\",'Hillson'}\n",
    "print(s)"
   ]
  },
  {
   "cell_type": "code",
   "execution_count": 21,
   "id": "2aa30ca0",
   "metadata": {},
   "outputs": [
    {
     "name": "stdout",
     "output_type": "stream",
     "text": [
      "<class 'set'>\n"
     ]
    }
   ],
   "source": [
    "s = {1}\n",
    "print(type(s))"
   ]
  },
  {
   "cell_type": "code",
   "execution_count": 23,
   "id": "a5e552ce",
   "metadata": {},
   "outputs": [
    {
     "name": "stdout",
     "output_type": "stream",
     "text": [
      "{'Apple', 'Ball', 'Dog'}\n"
     ]
    }
   ],
   "source": [
    "s = set()\n",
    "s.add(\"Dog\")\n",
    "s.add(\"Ball\")\n",
    "s.add(\"Apple\")\n",
    "print(s)"
   ]
  },
  {
   "cell_type": "code",
   "execution_count": 24,
   "id": "04f6a39a",
   "metadata": {},
   "outputs": [
    {
     "name": "stdout",
     "output_type": "stream",
     "text": [
      "Enter n = 2\n",
      "Enter x = 4\n",
      "Enter x = 3\n",
      "{3, 4}\n"
     ]
    }
   ],
   "source": [
    "a = set()\n",
    "n = int(input(\"Enter n = \"))\n",
    "for i in range(n):\n",
    "    x = int(input(\"Enter x = \"))\n",
    "    a.add(x)\n",
    "    \n",
    "print(a)"
   ]
  },
  {
   "cell_type": "code",
   "execution_count": 25,
   "id": "0771fe58",
   "metadata": {},
   "outputs": [
    {
     "name": "stdout",
     "output_type": "stream",
     "text": [
      "{0, 1, 2, 3, 4, 5, 6, 7, 8, 9}\n"
     ]
    }
   ],
   "source": [
    "a = {1,2,3,4,0}\n",
    "b = {9,7,8,6,5}\n",
    "a.update(b)\n",
    "print(a)"
   ]
  },
  {
   "cell_type": "code",
   "execution_count": 31,
   "id": "5b0648ba",
   "metadata": {},
   "outputs": [
    {
     "name": "stdout",
     "output_type": "stream",
     "text": [
      "{0, 1, 2, 3, 5, 6, 7, 8, 9}\n"
     ]
    }
   ],
   "source": [
    "s = {0, 1, 2, 3, 4, 5, 6, 7, 8, 9}\n",
    "s.remove(4)\n",
    "print(s)"
   ]
  },
  {
   "cell_type": "code",
   "execution_count": 32,
   "id": "4bb49588",
   "metadata": {},
   "outputs": [
    {
     "name": "stdout",
     "output_type": "stream",
     "text": [
      "{4}\n"
     ]
    }
   ],
   "source": [
    "a = {1,2,3,4,5}\n",
    "b = {4,9,8,7,6}\n",
    "i = a.intersection(b)\n",
    "print(i)"
   ]
  },
  {
   "cell_type": "code",
   "execution_count": 33,
   "id": "69eea30f",
   "metadata": {},
   "outputs": [
    {
     "name": "stdout",
     "output_type": "stream",
     "text": [
      "{1, 2, 3, 4, 5, 6, 7, 8, 9}\n"
     ]
    }
   ],
   "source": [
    "a = {1,2,3,4,5}\n",
    "b = {4,9,8,7,6}\n",
    "i = a.union(b)\n",
    "print(i)"
   ]
  },
  {
   "cell_type": "code",
   "execution_count": 34,
   "id": "f438151e",
   "metadata": {},
   "outputs": [
    {
     "name": "stdout",
     "output_type": "stream",
     "text": [
      "{1, 2, 3, 5}\n"
     ]
    }
   ],
   "source": [
    "print(a - b)"
   ]
  },
  {
   "cell_type": "code",
   "execution_count": 35,
   "id": "bc0cb70f",
   "metadata": {},
   "outputs": [
    {
     "name": "stdout",
     "output_type": "stream",
     "text": [
      "{8, 9, 6, 7}\n"
     ]
    }
   ],
   "source": [
    "print(b-a)"
   ]
  },
  {
   "cell_type": "code",
   "execution_count": 36,
   "id": "141fd8e2",
   "metadata": {},
   "outputs": [
    {
     "name": "stdout",
     "output_type": "stream",
     "text": [
      "{0}\n"
     ]
    }
   ],
   "source": [
    "u = {0,1,2,3,4,5,6,7,8,9}\n",
    "a = {1,2,3,4,5}\n",
    "b = {4,9,8,7,6}\n",
    "i = a.union(b)\n",
    "print(u-i)"
   ]
  },
  {
   "cell_type": "code",
   "execution_count": 37,
   "id": "80bdc100",
   "metadata": {},
   "outputs": [],
   "source": [
    "# inside set\n",
    "# - no list\n",
    "# - no dict\n",
    "# - no set"
   ]
  },
  {
   "cell_type": "code",
   "execution_count": 38,
   "id": "4b9a572d",
   "metadata": {},
   "outputs": [
    {
     "name": "stdout",
     "output_type": "stream",
     "text": [
      "{(4, 5), (1, 2), 'Hillson', (3, 4), 'K.C'}\n"
     ]
    }
   ],
   "source": [
    "a = {\"Hillson\",\"K.C\"}\n",
    "b = {(1,2),(3,4),(4,5)}\n",
    "a.update(b)\n",
    "print(a)"
   ]
  },
  {
   "cell_type": "code",
   "execution_count": 1,
   "id": "e78d10c5",
   "metadata": {},
   "outputs": [],
   "source": [
    "# # function\n",
    "# -pre defined functions\n",
    "# -user defined functions"
   ]
  },
  {
   "cell_type": "code",
   "execution_count": 2,
   "id": "5c894424",
   "metadata": {},
   "outputs": [],
   "source": [
    "# pre defined function\n",
    "# print() int() float() str() list() tuple() set() dict()\n",
    "# It is used to call"
   ]
  },
  {
   "cell_type": "code",
   "execution_count": 3,
   "id": "40841668",
   "metadata": {},
   "outputs": [],
   "source": [
    "# def <function name>:\n",
    "#     <operations>\n",
    "    \n",
    "# <funciton_name()>"
   ]
  },
  {
   "cell_type": "code",
   "execution_count": 4,
   "id": "aa03606a",
   "metadata": {},
   "outputs": [
    {
     "name": "stdout",
     "output_type": "stream",
     "text": [
      "Hello world\n"
     ]
    }
   ],
   "source": [
    "def hello():    #defining a function\n",
    "    print(\"Hello world\")\n",
    "hello()        # calling the function"
   ]
  },
  {
   "cell_type": "code",
   "execution_count": 6,
   "id": "5797d950",
   "metadata": {},
   "outputs": [
    {
     "name": "stdout",
     "output_type": "stream",
     "text": [
      "Enter l = 2\n",
      "Enter b = 3\n",
      "6\n"
     ]
    }
   ],
   "source": [
    "def area():\n",
    "    l = int(input(\"Enter l = \")) #local variables\n",
    "    b = int(input(\"Enter b = \")) #local variables\n",
    "    a = l*b\n",
    "    print(a)\n",
    "area()"
   ]
  },
  {
   "cell_type": "code",
   "execution_count": 8,
   "id": "6202cf57",
   "metadata": {},
   "outputs": [
    {
     "name": "stdout",
     "output_type": "stream",
     "text": [
      "Enter l = 2\n",
      "Enter b = 3\n",
      "6\n"
     ]
    }
   ],
   "source": [
    "def area():\n",
    "    a = l*b\n",
    "    print(a)\n",
    "l = int(input(\"Enter l = \")) #global variables\n",
    "b = int(input(\"Enter b = \")) #global variables\n",
    "area()"
   ]
  },
  {
   "cell_type": "code",
   "execution_count": 9,
   "id": "a7507da2",
   "metadata": {},
   "outputs": [
    {
     "name": "stdout",
     "output_type": "stream",
     "text": [
      "50\n"
     ]
    }
   ],
   "source": [
    "# functions with arguments\n",
    "def area(l,b): #parameters\n",
    "    a = l*b\n",
    "    print(a)\n",
    "    \n",
    "area(10,5) #arguments"
   ]
  },
  {
   "cell_type": "code",
   "execution_count": 10,
   "id": "76be8f49",
   "metadata": {},
   "outputs": [
    {
     "name": "stdout",
     "output_type": "stream",
     "text": [
      "Enter l = 2\n",
      "Enter b = 3\n",
      "6\n"
     ]
    }
   ],
   "source": [
    "def area(x,y):\n",
    "    a = x*y\n",
    "    print(a)\n",
    "l = int(input(\"Enter l = \")) #global variables\n",
    "b = int(input(\"Enter b = \")) #global variables\n",
    "area(l,b)"
   ]
  },
  {
   "cell_type": "code",
   "execution_count": 12,
   "id": "5bc72bed",
   "metadata": {},
   "outputs": [
    {
     "name": "stdout",
     "output_type": "stream",
     "text": [
      "Enter name: Hillson K.C\n",
      "Enter age: 21\n",
      "Enter address: Gauradaha\n",
      "Hello world i am Hillson K.C. I am from Gauradaha. I am 21 years old.\n"
     ]
    }
   ],
   "source": [
    "def info(name,age,add):\n",
    "    print(f\"Hello world i am {name}. I am from {add}. I am {age} years old.\")\n",
    "name = input(\"Enter name: \")\n",
    "age = int(input(\"Enter age: \"))\n",
    "add = input(\"Enter address: \")\n",
    "info(name,age,add)"
   ]
  },
  {
   "cell_type": "code",
   "execution_count": 16,
   "id": "be0bac14",
   "metadata": {},
   "outputs": [
    {
     "name": "stdout",
     "output_type": "stream",
     "text": [
      "Enter name: Hillson K.C\n",
      "Enter age: 21\n",
      "Enter address: Jhapa\n",
      "Hello world i am Hillson K.C. I am from 21. I am Jhapa years old.\n"
     ]
    }
   ],
   "source": [
    "def info(l):\n",
    "    x,y,z = l\n",
    "    print(f\"Hello world i am {x}. I am from {y}. I am {z} years old.\")\n",
    "name = input(\"Enter name: \")\n",
    "age = int(input(\"Enter age: \"))\n",
    "add = input(\"Enter address: \")\n",
    "\n",
    "l = [name,age,add]\n",
    "info(l)"
   ]
  },
  {
   "cell_type": "code",
   "execution_count": 17,
   "id": "c4d19f6b",
   "metadata": {},
   "outputs": [
    {
     "name": "stdout",
     "output_type": "stream",
     "text": [
      "c\n",
      "java\n",
      "c#\n",
      "c++\n",
      "Python\n"
     ]
    }
   ],
   "source": [
    "def language(lan = \"Python\"):\n",
    "    print(lan)\n",
    "language(\"c\")\n",
    "language(\"java\")\n",
    "language(\"c#\")\n",
    "language(\"c++\")\n",
    "language()"
   ]
  },
  {
   "cell_type": "code",
   "execution_count": 2,
   "id": "def6f5be",
   "metadata": {},
   "outputs": [
    {
     "name": "stdout",
     "output_type": "stream",
     "text": [
      "Volume =  120\n"
     ]
    }
   ],
   "source": [
    "# Return type function\n",
    "def area():\n",
    "    l = 10\n",
    "    b = 3\n",
    "    a = l*b\n",
    "    return a\n",
    "# print(area())\n",
    "ar = area()\n",
    "h = 4\n",
    "v = ar*h\n",
    "print(\"Volume = \",v)"
   ]
  },
  {
   "cell_type": "code",
   "execution_count": 1,
   "id": "a37be824",
   "metadata": {},
   "outputs": [
    {
     "name": "stdout",
     "output_type": "stream",
     "text": [
      "Enter l = 3\n",
      "Enter b = 4\n",
      "Enter h = 5\n",
      "area =  12\n",
      "Volume =  60\n"
     ]
    }
   ],
   "source": [
    "# Return type function with arguments\n",
    "def cal(l,b,h):\n",
    "    a = l*b\n",
    "    v = a*h\n",
    "    return a,v\n",
    "\n",
    "l = int(input(\"Enter l = \"))\n",
    "b = int(input(\"Enter b = \"))\n",
    "h = int(input(\"Enter h = \"))\n",
    "\n",
    "# print(area())\n",
    "area,volume = cal(l,b,h)\n",
    "print(\"area = \",area)\n",
    "print(\"Volume = \",volume)"
   ]
  },
  {
   "cell_type": "code",
   "execution_count": 3,
   "id": "8b5492c0",
   "metadata": {},
   "outputs": [
    {
     "name": "stdout",
     "output_type": "stream",
     "text": [
      "Enter a = 3\n",
      "Enter b = 4\n",
      "Enter + or - or * or / +\n",
      "7\n"
     ]
    }
   ],
   "source": [
    "# make a calculator using function call method\n",
    "def add(a,b):\n",
    "    return a+b\n",
    "def sub(a,b):\n",
    "    return a-b\n",
    "def mul(a,b):\n",
    "    return a*b\n",
    "def div(a,b):\n",
    "    return a/b\n",
    "\n",
    "\n",
    "def call():\n",
    "    a = int(input(\"Enter a = \"))\n",
    "    b = int(input(\"Enter b = \"))    \n",
    "    c = input(\"Enter + or - or * or / \") \n",
    "    if c == \"+\":\n",
    "        print(add(a,b))\n",
    "    elif c == \"-\":\n",
    "        print(sub(a,b))\n",
    "    elif c == \"*\":\n",
    "        print(mul(a,b))\n",
    "    elif c == \"/\":\n",
    "        print(div(a,b))\n",
    "    else:\n",
    "        print(\"Enter Valid operator\")\n",
    "call()"
   ]
  },
  {
   "cell_type": "code",
   "execution_count": null,
   "id": "825c5b3e",
   "metadata": {},
   "outputs": [],
   "source": [
    "# "
   ]
  },
  {
   "cell_type": "code",
   "execution_count": null,
   "id": "6cb81cf6",
   "metadata": {},
   "outputs": [],
   "source": []
  },
  {
   "cell_type": "code",
   "execution_count": null,
   "id": "d5001b99",
   "metadata": {},
   "outputs": [],
   "source": []
  },
  {
   "cell_type": "code",
   "execution_count": null,
   "id": "b1c5f437",
   "metadata": {},
   "outputs": [],
   "source": []
  },
  {
   "cell_type": "code",
   "execution_count": null,
   "id": "b4255986",
   "metadata": {},
   "outputs": [],
   "source": []
  }
 ],
 "metadata": {
  "kernelspec": {
   "display_name": "Python 3 (ipykernel)",
   "language": "python",
   "name": "python3"
  },
  "language_info": {
   "codemirror_mode": {
    "name": "ipython",
    "version": 3
   },
   "file_extension": ".py",
   "mimetype": "text/x-python",
   "name": "python",
   "nbconvert_exporter": "python",
   "pygments_lexer": "ipython3",
   "version": "3.11.5"
  }
 },
 "nbformat": 4,
 "nbformat_minor": 5
}
