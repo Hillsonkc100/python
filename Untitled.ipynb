{
 "cells": [
  {
   "cell_type": "code",
   "execution_count": 4,
   "id": "c8bba316",
   "metadata": {},
   "outputs": [
    {
     "name": "stdout",
     "output_type": "stream",
     "text": [
      "Enter your name: hillson\n",
      "Enter English marks: 34\n",
      "Enter Maths marks: 54\n",
      "Enter Physics marks: 66\n",
      "Enter Chemistry marks: 75\n",
      "Enter Nepali marks: 65\n",
      "Inserted 1 record(s) into the database.\n"
     ]
    }
   ],
   "source": [
    "import mysql.connector\n",
    "\n",
    "database = mysql.connector.connect(\n",
    "    host=\"localhost\",\n",
    "    user=\"root\",\n",
    "    password=\"\",  # Make sure to use the correct password\n",
    "    database=\"python class\"\n",
    ")\n",
    "db = database.cursor()\n",
    "\n",
    "name = input(\"Enter your name: \")\n",
    "english = int(input(\"Enter English marks: \"))\n",
    "math = int(input(\"Enter Maths marks: \"))\n",
    "physics = int(input(\"Enter Physics marks: \"))\n",
    "chemistry = int(input(\"Enter Chemistry marks: \"))\n",
    "nepali = int(input(\"Enter Nepali marks: \"))\n",
    "\n",
    "total = english + math + physics + chemistry + nepali\n",
    "per = total / 5\n",
    "\n",
    "if per >= 80:\n",
    "    grade = \"A\"\n",
    "elif per >= 60:\n",
    "    grade = \"B\"\n",
    "elif per >= 45:\n",
    "    grade = \"C\"\n",
    "else:\n",
    "    grade = \"F\"\n",
    "\n",
    "sql = '''INSERT INTO student (name, physics, english, math, chemistry, nepali, total, per, grade)\n",
    "VALUES (%s, %s, %s, %s, %s, %s, %s, %s, %s)'''\n",
    "\n",
    "vals = (name, physics, english, math, chemistry, nepali, total, per, grade)\n",
    "\n",
    "db.execute(sql, vals)\n",
    "database.commit()\n",
    "print(f\"Inserted {db.rowcount} record(s) into the database.\")\n",
    "\n",
    "# Don't forget to close the cursor and connection when done.\n",
    "db.close()\n",
    "database.close()"
   ]
  },
  {
   "cell_type": "code",
   "execution_count": 7,
   "id": "3f2e8d90",
   "metadata": {},
   "outputs": [
    {
     "name": "stdout",
     "output_type": "stream",
     "text": [
      "Enter subject = math\n",
      "Enter marks = 54\n",
      "Enter sn = 1\n"
     ]
    }
   ],
   "source": [
    "# update\n",
    "import mysql.connector\n",
    "\n",
    "database = mysql.connector.connect(\n",
    "    host=\"localhost\",\n",
    "    user=\"root\",\n",
    "    password=\"\",  # Make sure to use the correct password\n",
    "    database=\"python class\"\n",
    ")\n",
    "db = database.cursor()\n",
    "\n",
    "subject = input(\"Enter subject = \")\n",
    "marks = int(input(\"Enter marks = \"))\n",
    "sn = int(input(\"Enter sn = \"))\n",
    "\n",
    "sql = f\"UPDATE student SET {subject} = {marks} WHERE student.sn = {sn}\"\n",
    "db.execute(sql)\n",
    "database.commit()"
   ]
  },
  {
   "cell_type": "code",
   "execution_count": 8,
   "id": "788200ef",
   "metadata": {},
   "outputs": [
    {
     "name": "stdout",
     "output_type": "stream",
     "text": [
      "UPDATE student SET math = 54 WHERE student.sn = 1\n"
     ]
    }
   ],
   "source": [
    "print(sql)"
   ]
  },
  {
   "cell_type": "code",
   "execution_count": 10,
   "id": "9bfc2b00",
   "metadata": {},
   "outputs": [
    {
     "name": "stdout",
     "output_type": "stream",
     "text": [
      "Enter sn = 8\n"
     ]
    }
   ],
   "source": [
    "#delete\n",
    "sn = int(input(\"Enter sn = \"))\n",
    "sql = f\"DELETE FROM student WHERE sn= {sn}\"\n",
    "db.execute(sql)\n",
    "database.commit()"
   ]
  },
  {
   "cell_type": "code",
   "execution_count": null,
   "id": "8d91b151",
   "metadata": {},
   "outputs": [],
   "source": []
  }
 ],
 "metadata": {
  "kernelspec": {
   "display_name": "Python 3 (ipykernel)",
   "language": "python",
   "name": "python3"
  },
  "language_info": {
   "codemirror_mode": {
    "name": "ipython",
    "version": 3
   },
   "file_extension": ".py",
   "mimetype": "text/x-python",
   "name": "python",
   "nbconvert_exporter": "python",
   "pygments_lexer": "ipython3",
   "version": "3.11.5"
  }
 },
 "nbformat": 4,
 "nbformat_minor": 5
}
